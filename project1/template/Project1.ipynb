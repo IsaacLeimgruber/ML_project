{
 "cells": [
  {
   "cell_type": "code",
   "execution_count": 1,
   "metadata": {},
   "outputs": [],
   "source": [
    "%matplotlib inline\n",
    "import pandas as pd\n",
    "import numpy as np\n",
    "import matplotlib.pyplot as plt\n",
    "import seaborn as sns\n"
   ]
  },
  {
   "cell_type": "code",
   "execution_count": 2,
   "metadata": {},
   "outputs": [],
   "source": [
    "from datetime import date,time, datetime\n",
    "import glob, os\n",
    "from dateutil.parser import parse"
   ]
  },
  {
   "cell_type": "code",
   "execution_count": 3,
   "metadata": {},
   "outputs": [],
   "source": [
    "from proj1_helpers import *\n",
    "from implementations import *\n",
    "DATA_FOLDER = '../data/'"
   ]
  },
  {
   "cell_type": "code",
   "execution_count": 4,
   "metadata": {},
   "outputs": [],
   "source": [
    "y_train, x_train, id_train = load_csv_data(DATA_FOLDER + 'train.csv')\n",
    "y_test, x_test, id_test = load_csv_data(DATA_FOLDER + 'test.csv')"
   ]
  },
  {
   "cell_type": "code",
   "execution_count": 5,
   "metadata": {},
   "outputs": [
    {
     "data": {
      "text/plain": [
       "array([ 1., -1., -1., ...,  1., -1., -1.])"
      ]
     },
     "execution_count": 5,
     "metadata": {},
     "output_type": "execute_result"
    }
   ],
   "source": [
    "y_train"
   ]
  },
  {
   "cell_type": "code",
   "execution_count": 6,
   "metadata": {},
   "outputs": [
    {
     "data": {
      "text/plain": [
       "(250000, 30)"
      ]
     },
     "execution_count": 6,
     "metadata": {},
     "output_type": "execute_result"
    }
   ],
   "source": [
    "np.shape(x_train)"
   ]
  },
  {
   "cell_type": "code",
   "execution_count": 7,
   "metadata": {},
   "outputs": [
    {
     "data": {
      "text/plain": [
       "array([100000, 100001, 100002, ..., 349997, 349998, 349999])"
      ]
     },
     "execution_count": 7,
     "metadata": {},
     "output_type": "execute_result"
    }
   ],
   "source": [
    "id_train"
   ]
  },
  {
   "cell_type": "code",
   "execution_count": 31,
   "metadata": {},
   "outputs": [],
   "source": [
    "def build_poly(x, degree):\n",
    "    \"\"\"polynomial basis functions for input data x, for j=0 up to j=degree.\"\"\"\n",
    "    \n",
    "    # problem ici avec 1 et sum\n",
    "    phi_x = []\n",
    "        \n",
    "    for j in range(0, degree + 1):\n",
    "        if(j == 0):\n",
    "            phi_x = np.power(x, j)\n",
    "        else:\n",
    "            x_power_j = np.power(x, j)\n",
    "            phi_x = np.c_[phi_x, x_power_j]\n",
    "\n",
    "    return phi_x"
   ]
  },
  {
   "cell_type": "code",
   "execution_count": 32,
   "metadata": {},
   "outputs": [],
   "source": [
    "def ridge_regression_demo(y_train, x_train, y_test, x_test, degree):\n",
    "    # define parameter\n",
    "    lambdas = np.logspace(-5, 0, 15)\n",
    "    \n",
    "    # faire une boucle pour lancer row par row dans build poly\n",
    "    train_poly = build_poly(x_train, degree)\n",
    "    test_poly = build_poly(x_test, degree)\n",
    "    \n",
    "    rmse_tr = []\n",
    "    rmse_te = []\n",
    "    \n",
    "    w_best = 0\n",
    "    loss_min = 1000\n",
    "    \n",
    "    print(np.shape(train_poly))\n",
    "    print(np.shape(y_train))\n",
    "    #print()\n",
    "    \n",
    "    for ind, lambda_ in enumerate(lambdas):\n",
    "        \n",
    "        weights_train, mse_train = ridge_regression(y_train, train_poly, lambda_)\n",
    "        mse_test = compute_loss(y_test, test_poly, weights_train)\n",
    "        \n",
    "        print(np.shape(weights_train))\n",
    "        \n",
    "        if(mse_test < loss_min):\n",
    "            loss_min = mse_test\n",
    "            w_best = weights_train\n",
    "        \n",
    "        rmse_tr.append(np.sqrt(2 * mse_train))\n",
    "        rmse_te.append(np.sqrt(2 * mse_test))\n",
    "    \n",
    "        #print(\"degree={d}, lambda={l:.3f}, Training RMSE={tr:.3f}, Testing RMSE={te:.3f}\".format(d=degree, l=lambda_, tr=rmse_tr[ind], te=rmse_te[ind]))\n",
    "        \n",
    "        \n",
    "    \n",
    "    return w_best # loss_min\n"
   ]
  },
  {
   "cell_type": "code",
   "execution_count": 33,
   "metadata": {},
   "outputs": [],
   "source": [
    "def partition_x_indices(x, k, seed=1):\n",
    "    np.random.seed(seed)\n",
    "    idx = [i for i in range(len(x))]\n",
    "    np.random.shuffle(idx) \n",
    "    partition = np.array_split(idx, k);\n",
    "  \n",
    "    return partition"
   ]
  },
  {
   "cell_type": "code",
   "execution_count": 34,
   "metadata": {},
   "outputs": [],
   "source": [
    "def cross_valid(y, tx, k, degree):\n",
    "    partition = partition_x_indices(x, k);\n",
    "    w_sum = 0\n",
    "    \n",
    "    for i_test in range(0,k):\n",
    "        idx_train = [x for j, x in enumerate(partition) if j != i_test]\n",
    "        idx_train = [idx for part in idx_train for idx in part]\n",
    "        \n",
    "        x_train = tx[idx_train]\n",
    "        y_train = y[idx_train]\n",
    "        \n",
    "        idx_test = partition[i_test]\n",
    "        \n",
    "        x_test = tx[idx_test]\n",
    "        y_test = y[idx_test]\n",
    "        \n",
    "        w = ridge_regression_demo(x_train, y_train, x_test, y_test, degree)\n",
    "        \n",
    "        w_sum = np.add(w_sum, w)\n",
    "    \n",
    "    w_mean = w_sum / k\n",
    "    \n",
    "    return w_mean"
   ]
  },
  {
   "cell_type": "code",
   "execution_count": 35,
   "metadata": {},
   "outputs": [
    {
     "name": "stdout",
     "output_type": "stream",
     "text": [
      "(250000, 180)\n",
      "(250000,)\n",
      "(180,)\n",
      "(180,)\n",
      "(180,)\n",
      "(180,)\n",
      "(180,)\n",
      "(180,)\n",
      "(180,)\n",
      "(180,)\n",
      "(180,)\n",
      "(180,)\n",
      "(180,)\n",
      "(180,)\n",
      "(180,)\n",
      "(180,)\n",
      "(180,)\n"
     ]
    }
   ],
   "source": [
    "\n",
    "w = ridge_regression_demo(y_train, x_train, y_test, x_test, 5)\n",
    "#w"
   ]
  },
  {
   "cell_type": "code",
   "execution_count": null,
   "metadata": {},
   "outputs": [],
   "source": [
    "TEST = pd.read_csv(DATA_FOLDER + 'test.csv')\n",
    "TEST.head(5)"
   ]
  },
  {
   "cell_type": "code",
   "execution_count": null,
   "metadata": {},
   "outputs": [],
   "source": [
    "TRAIN = pd.read_csv(DATA_FOLDER + 'train.csv')\n",
    "TRAIN.head(3)"
   ]
  },
  {
   "cell_type": "code",
   "execution_count": null,
   "metadata": {},
   "outputs": [],
   "source": []
  }
 ],
 "metadata": {
  "kernelspec": {
   "display_name": "Python [conda root]",
   "language": "python",
   "name": "conda-root-py"
  },
  "language_info": {
   "codemirror_mode": {
    "name": "ipython",
    "version": 3
   },
   "file_extension": ".py",
   "mimetype": "text/x-python",
   "name": "python",
   "nbconvert_exporter": "python",
   "pygments_lexer": "ipython3",
   "version": "3.6.0"
  }
 },
 "nbformat": 4,
 "nbformat_minor": 2
}
