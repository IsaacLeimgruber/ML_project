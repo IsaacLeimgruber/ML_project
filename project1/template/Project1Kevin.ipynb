{
 "cells": [
  {
   "cell_type": "code",
   "execution_count": 1,
   "metadata": {
    "collapsed": true
   },
   "outputs": [],
   "source": [
    "%matplotlib inline\n",
    "import numpy as np\n",
    "import matplotlib.pyplot as plt\n",
    "import seaborn as sns"
   ]
  },
  {
   "cell_type": "code",
   "execution_count": 2,
   "metadata": {
    "collapsed": true
   },
   "outputs": [],
   "source": [
    "from proj1_helpers import *\n",
    "#from implementations import *\n",
    "DATA_FOLDER = '../data/'"
   ]
  },
  {
   "cell_type": "code",
   "execution_count": 3,
   "metadata": {
    "collapsed": true
   },
   "outputs": [],
   "source": [
    "from split_data import split_data"
   ]
  },
  {
   "cell_type": "code",
   "execution_count": 4,
   "metadata": {
    "collapsed": true
   },
   "outputs": [],
   "source": [
    "from implementations import *\n",
    "from loss import *"
   ]
  },
  {
   "cell_type": "code",
   "execution_count": 5,
   "metadata": {
    "collapsed": true
   },
   "outputs": [],
   "source": [
    "y_train, x_train, id_train = load_csv_data(DATA_FOLDER + 'train.csv')\n",
    "y_test, x_test, id_test = load_csv_data(DATA_FOLDER + 'test.csv')"
   ]
  },
  {
   "cell_type": "code",
   "execution_count": 6,
   "metadata": {},
   "outputs": [
    {
     "data": {
      "text/plain": [
       "array([ 1., -1., -1., ...,  1., -1., -1.])"
      ]
     },
     "execution_count": 6,
     "metadata": {},
     "output_type": "execute_result"
    }
   ],
   "source": [
    "y_train"
   ]
  },
  {
   "cell_type": "markdown",
   "metadata": {},
   "source": [
    "### Basic Least Squares"
   ]
  },
  {
   "cell_type": "code",
   "execution_count": 7,
   "metadata": {
    "collapsed": true
   },
   "outputs": [],
   "source": [
    "def compare_prediction(w_train, x, y):\n",
    "    y_pred = predict_labels(w_train, x)\n",
    "    return (y_pred == y).sum()/len(y_pred)"
   ]
  },
  {
   "cell_type": "code",
   "execution_count": 167,
   "metadata": {},
   "outputs": [
    {
     "data": {
      "text/plain": [
       "0.74432799999999999"
      ]
     },
     "execution_count": 167,
     "metadata": {},
     "output_type": "execute_result"
    }
   ],
   "source": [
    "w_ls, loss_ls = least_squares(y_train, x_train)\n",
    "compare_prediction(w_ls, x_train, y_train)"
   ]
  },
  {
   "cell_type": "code",
   "execution_count": 306,
   "metadata": {},
   "outputs": [
    {
     "ename": "LinAlgError",
     "evalue": "Singular matrix",
     "output_type": "error",
     "traceback": [
      "\u001b[1;31m---------------------------------------------------------------------------\u001b[0m",
      "\u001b[1;31mLinAlgError\u001b[0m                               Traceback (most recent call last)",
      "\u001b[1;32m<ipython-input-306-3fe24d9c5fcc>\u001b[0m in \u001b[0;36m<module>\u001b[1;34m()\u001b[0m\n\u001b[0;32m      1\u001b[0m \u001b[0mx_poly\u001b[0m \u001b[1;33m=\u001b[0m \u001b[0mbuild_poly\u001b[0m\u001b[1;33m(\u001b[0m\u001b[0mx_train\u001b[0m\u001b[1;33m[\u001b[0m\u001b[1;33m:\u001b[0m\u001b[1;36m2000\u001b[0m\u001b[1;33m]\u001b[0m\u001b[1;33m,\u001b[0m \u001b[1;36m4\u001b[0m\u001b[1;33m)\u001b[0m\u001b[1;33m\u001b[0m\u001b[0m\n\u001b[1;32m----> 2\u001b[1;33m \u001b[0mw_ls\u001b[0m\u001b[1;33m,\u001b[0m \u001b[0mloss_ls\u001b[0m \u001b[1;33m=\u001b[0m \u001b[0mleast_squares\u001b[0m\u001b[1;33m(\u001b[0m\u001b[0my_train\u001b[0m\u001b[1;33m[\u001b[0m\u001b[1;33m:\u001b[0m\u001b[1;36m2000\u001b[0m\u001b[1;33m]\u001b[0m\u001b[1;33m,\u001b[0m \u001b[0mx_poly\u001b[0m\u001b[1;33m)\u001b[0m\u001b[1;33m\u001b[0m\u001b[0m\n\u001b[0m\u001b[0;32m      3\u001b[0m \u001b[0mcompare_prediction\u001b[0m\u001b[1;33m(\u001b[0m\u001b[0mw_ls\u001b[0m\u001b[1;33m,\u001b[0m \u001b[0mx_poly\u001b[0m\u001b[1;33m,\u001b[0m \u001b[0my_train\u001b[0m\u001b[1;33m[\u001b[0m\u001b[1;33m:\u001b[0m\u001b[1;36m2000\u001b[0m\u001b[1;33m]\u001b[0m\u001b[1;33m)\u001b[0m\u001b[1;33m\u001b[0m\u001b[0m\n",
      "\u001b[1;32mC:\\ML_project\\project1\\template\\implementations.py\u001b[0m in \u001b[0;36mleast_squares\u001b[1;34m(y, tx)\u001b[0m\n\u001b[0;32m     45\u001b[0m     \u001b[1;34m\"\"\"calculate the least squares solution.\"\"\"\u001b[0m\u001b[1;33m\u001b[0m\u001b[0m\n\u001b[0;32m     46\u001b[0m \u001b[1;33m\u001b[0m\u001b[0m\n\u001b[1;32m---> 47\u001b[1;33m     \u001b[0mw\u001b[0m \u001b[1;33m=\u001b[0m \u001b[0mnp\u001b[0m\u001b[1;33m.\u001b[0m\u001b[0mlinalg\u001b[0m\u001b[1;33m.\u001b[0m\u001b[0msolve\u001b[0m\u001b[1;33m(\u001b[0m\u001b[0mtx\u001b[0m\u001b[1;33m.\u001b[0m\u001b[0mT\u001b[0m \u001b[1;33m@\u001b[0m \u001b[0mtx\u001b[0m\u001b[1;33m,\u001b[0m \u001b[0mtx\u001b[0m\u001b[1;33m.\u001b[0m\u001b[0mT\u001b[0m \u001b[1;33m@\u001b[0m \u001b[0my\u001b[0m\u001b[1;33m)\u001b[0m\u001b[1;33m\u001b[0m\u001b[0m\n\u001b[0m\u001b[0;32m     48\u001b[0m     \u001b[0mloss\u001b[0m \u001b[1;33m=\u001b[0m \u001b[0mcompute_loss\u001b[0m\u001b[1;33m(\u001b[0m\u001b[0my\u001b[0m\u001b[1;33m,\u001b[0m \u001b[0mtx\u001b[0m\u001b[1;33m,\u001b[0m \u001b[0mw\u001b[0m\u001b[1;33m)\u001b[0m\u001b[1;33m\u001b[0m\u001b[0m\n\u001b[0;32m     49\u001b[0m     \u001b[1;32mreturn\u001b[0m \u001b[0mw\u001b[0m\u001b[1;33m,\u001b[0m \u001b[0mloss\u001b[0m\u001b[1;33m;\u001b[0m\u001b[1;33m\u001b[0m\u001b[0m\n",
      "\u001b[1;32mC:\\Anaconda3\\lib\\site-packages\\numpy\\linalg\\linalg.py\u001b[0m in \u001b[0;36msolve\u001b[1;34m(a, b)\u001b[0m\n\u001b[0;32m    382\u001b[0m     \u001b[0msignature\u001b[0m \u001b[1;33m=\u001b[0m \u001b[1;34m'DD->D'\u001b[0m \u001b[1;32mif\u001b[0m \u001b[0misComplexType\u001b[0m\u001b[1;33m(\u001b[0m\u001b[0mt\u001b[0m\u001b[1;33m)\u001b[0m \u001b[1;32melse\u001b[0m \u001b[1;34m'dd->d'\u001b[0m\u001b[1;33m\u001b[0m\u001b[0m\n\u001b[0;32m    383\u001b[0m     \u001b[0mextobj\u001b[0m \u001b[1;33m=\u001b[0m \u001b[0mget_linalg_error_extobj\u001b[0m\u001b[1;33m(\u001b[0m\u001b[0m_raise_linalgerror_singular\u001b[0m\u001b[1;33m)\u001b[0m\u001b[1;33m\u001b[0m\u001b[0m\n\u001b[1;32m--> 384\u001b[1;33m     \u001b[0mr\u001b[0m \u001b[1;33m=\u001b[0m \u001b[0mgufunc\u001b[0m\u001b[1;33m(\u001b[0m\u001b[0ma\u001b[0m\u001b[1;33m,\u001b[0m \u001b[0mb\u001b[0m\u001b[1;33m,\u001b[0m \u001b[0msignature\u001b[0m\u001b[1;33m=\u001b[0m\u001b[0msignature\u001b[0m\u001b[1;33m,\u001b[0m \u001b[0mextobj\u001b[0m\u001b[1;33m=\u001b[0m\u001b[0mextobj\u001b[0m\u001b[1;33m)\u001b[0m\u001b[1;33m\u001b[0m\u001b[0m\n\u001b[0m\u001b[0;32m    385\u001b[0m \u001b[1;33m\u001b[0m\u001b[0m\n\u001b[0;32m    386\u001b[0m     \u001b[1;32mreturn\u001b[0m \u001b[0mwrap\u001b[0m\u001b[1;33m(\u001b[0m\u001b[0mr\u001b[0m\u001b[1;33m.\u001b[0m\u001b[0mastype\u001b[0m\u001b[1;33m(\u001b[0m\u001b[0mresult_t\u001b[0m\u001b[1;33m,\u001b[0m \u001b[0mcopy\u001b[0m\u001b[1;33m=\u001b[0m\u001b[1;32mFalse\u001b[0m\u001b[1;33m)\u001b[0m\u001b[1;33m)\u001b[0m\u001b[1;33m\u001b[0m\u001b[0m\n",
      "\u001b[1;32mC:\\Anaconda3\\lib\\site-packages\\numpy\\linalg\\linalg.py\u001b[0m in \u001b[0;36m_raise_linalgerror_singular\u001b[1;34m(err, flag)\u001b[0m\n\u001b[0;32m     88\u001b[0m \u001b[1;33m\u001b[0m\u001b[0m\n\u001b[0;32m     89\u001b[0m \u001b[1;32mdef\u001b[0m \u001b[0m_raise_linalgerror_singular\u001b[0m\u001b[1;33m(\u001b[0m\u001b[0merr\u001b[0m\u001b[1;33m,\u001b[0m \u001b[0mflag\u001b[0m\u001b[1;33m)\u001b[0m\u001b[1;33m:\u001b[0m\u001b[1;33m\u001b[0m\u001b[0m\n\u001b[1;32m---> 90\u001b[1;33m     \u001b[1;32mraise\u001b[0m \u001b[0mLinAlgError\u001b[0m\u001b[1;33m(\u001b[0m\u001b[1;34m\"Singular matrix\"\u001b[0m\u001b[1;33m)\u001b[0m\u001b[1;33m\u001b[0m\u001b[0m\n\u001b[0m\u001b[0;32m     91\u001b[0m \u001b[1;33m\u001b[0m\u001b[0m\n\u001b[0;32m     92\u001b[0m \u001b[1;32mdef\u001b[0m \u001b[0m_raise_linalgerror_nonposdef\u001b[0m\u001b[1;33m(\u001b[0m\u001b[0merr\u001b[0m\u001b[1;33m,\u001b[0m \u001b[0mflag\u001b[0m\u001b[1;33m)\u001b[0m\u001b[1;33m:\u001b[0m\u001b[1;33m\u001b[0m\u001b[0m\n",
      "\u001b[1;31mLinAlgError\u001b[0m: Singular matrix"
     ]
    }
   ],
   "source": [
    "x_poly = build_poly(x_train[:2000], 4)\n",
    "w_ls, loss_ls = least_squares(y_train[:2000], x_poly)\n",
    "compare_prediction(w_ls, x_poly, y_train[:2000])"
   ]
  },
  {
   "cell_type": "markdown",
   "metadata": {},
   "source": [
    "### Stochastic Gradient Descent"
   ]
  },
  {
   "cell_type": "code",
   "execution_count": 9,
   "metadata": {
    "collapsed": true
   },
   "outputs": [],
   "source": [
    "initial_w = np.asarray([1]*30)\n",
    "max_iters = 30\n",
    "gamma = 0.7"
   ]
  },
  {
   "cell_type": "code",
   "execution_count": 10,
   "metadata": {},
   "outputs": [
    {
     "name": "stderr",
     "output_type": "stream",
     "text": [
      "C:\\ML_project\\project1\\template\\loss.py:5: RuntimeWarning: overflow encountered in square\n",
      "  return np.mean(e**2)/2.\n"
     ]
    }
   ],
   "source": [
    "w_sgd, loss_sgd = least_squares_SGD(y_train, x_train, initial_w, max_iters, gamma)"
   ]
  },
  {
   "cell_type": "code",
   "execution_count": 11,
   "metadata": {},
   "outputs": [
    {
     "data": {
      "text/plain": [
       "0.63045200000000001"
      ]
     },
     "execution_count": 11,
     "metadata": {},
     "output_type": "execute_result"
    }
   ],
   "source": [
    "compare_prediction(w_sgd, x_train, y_train)"
   ]
  },
  {
   "cell_type": "markdown",
   "metadata": {},
   "source": [
    "### Ridge Regression"
   ]
  },
  {
   "cell_type": "code",
   "execution_count": 14,
   "metadata": {
    "collapsed": true
   },
   "outputs": [],
   "source": [
    "from build_polynomial import build_poly\n",
    "\n",
    "def ridge_regression_demo(x, y, degree, ratio, seed):\n",
    "    \"\"\"ridge regression demo.\"\"\"\n",
    "    # define parameter\n",
    "    lambdas = np.logspace(-5, 0, 15)\n",
    "    # split data\n",
    "    x_tr, y_tr, x_te, y_te = split_data(x, y, ratio, seed)\n",
    "    \n",
    "    tr_poly = build_poly(x_tr, degree)\n",
    "    te_poly = build_poly(x_te, degree)\n",
    "    \n",
    "    #loss = 1000\n",
    "    best_comp_pred = 0\n",
    "    w = 0\n",
    "    \n",
    "    for lambda_ in lambdas:\n",
    "        # ridge regression\n",
    "        weight, l = ridge_regression(y_tr, tr_poly, lambda_, 1)\n",
    "        #weight = stack_w(weight, degree)\n",
    "        mse_test = compute_loss(y_te, te_poly, weight)\n",
    "        \n",
    "        comp_pred = compare_prediction(weight.reshape(len(weight), 1), tr_poly, y_tr.reshape(len(y_tr), 1))\n",
    "        if(comp_pred > best_comp_pred):\n",
    "            best_comp_pred = comp_pred\n",
    "            print(best_comp_pred)\n",
    "            loss = mse_test\n",
    "            w = weight\n",
    "        \n",
    "    return w, loss"
   ]
  },
  {
   "cell_type": "code",
   "execution_count": 240,
   "metadata": {
    "scrolled": true
   },
   "outputs": [
    {
     "name": "stdout",
     "output_type": "stream",
     "text": [
      "0.799782222222\n",
      "0.800048888889\n"
     ]
    }
   ],
   "source": [
    "# boucler sur les seeds pour avoir un meileur ? \n",
    "#seed = 95\n",
    "#degree = 6\n",
    "#split_ratio = 0.29\n",
    "\n",
    "seed = 120\n",
    "degree = 6\n",
    "split_ratio = 0.9\n",
    "\n",
    "w_r, loss_ridge = ridge_regression_demo(x_train, y_train, degree, split_ratio, seed)"
   ]
  },
  {
   "cell_type": "code",
   "execution_count": 241,
   "metadata": {},
   "outputs": [
    {
     "data": {
      "text/plain": [
       "0.799736"
      ]
     },
     "execution_count": 241,
     "metadata": {},
     "output_type": "execute_result"
    }
   ],
   "source": [
    "compare_prediction(w_r.reshape(len(w_r), 1), build_poly(x_train, degree), y_train.reshape(len(y_train), 1))"
   ]
  },
  {
   "cell_type": "markdown",
   "metadata": {},
   "source": [
    "### Cross-validation"
   ]
  },
  {
   "cell_type": "code",
   "execution_count": 183,
   "metadata": {
    "collapsed": true
   },
   "outputs": [],
   "source": [
    "from build_k_indices import build_k_indices\n",
    "from implementations import ridge_regression\n",
    "from build_polynomial import build_poly\n",
    "\n",
    "def cross_validation(func, y, x, k_indices, k, lambda_, degree, gamma):\n",
    "    \"\"\"return the loss of ridge regression.\"\"\"\n",
    "\n",
    "    # get k'th subgroup in test, others in train\n",
    "    train_indices = [x for j, x in enumerate(k_indices) if j != k]\n",
    "    train_indices = [idx for part in train_indices for idx in part]\n",
    "    test_indices = k_indices[k]\n",
    "    \n",
    "    x_tr = x[train_indices]\n",
    "    y_tr = y[train_indices]\n",
    "    \n",
    "    x_te = x[test_indices]\n",
    "    y_te = y[test_indices]\n",
    "\n",
    "    # form data with polynomial degree\n",
    "    train_poly = build_poly(x_tr, degree)\n",
    "    test_poly = build_poly(x_te, degree)\n",
    "\n",
    "    # ridge regression\n",
    "    weights_train, loss_tr = func(y_tr, train_poly, lambda_, gamma)\n",
    "\n",
    "    # calculate the loss for train and test data\n",
    "    loss_te = compute_loss(y_te, test_poly, weights_train)\n",
    "\n",
    "    return loss_tr, loss_te, weights_train"
   ]
  },
  {
   "cell_type": "code",
   "execution_count": 184,
   "metadata": {
    "collapsed": true
   },
   "outputs": [],
   "source": [
    "def cross_valid_vizu(values, name, rmse_tr, rmse_te):\n",
    "    \"\"\"visualization the curves of mse_tr and mse_te.\"\"\"\n",
    "    plt.semilogx(values, rmse_tr, marker=\".\", color='b', label='train error')\n",
    "    plt.semilogx(values, rmse_te, marker=\".\", color='r', label='test error')\n",
    "    plt.xlabel(name)\n",
    "    plt.ylabel(\"rmse\")\n",
    "    plt.title(\"cross validation\")\n",
    "    plt.legend(loc=2)\n",
    "    plt.grid(True)\n",
    "    plt.savefig(\"cross_validation\")"
   ]
  },
  {
   "cell_type": "code",
   "execution_count": 276,
   "metadata": {
    "collapsed": true
   },
   "outputs": [],
   "source": [
    "def cross_validation_demo(func, lambdas, degrees, gammas, k_fold):\n",
    "    \n",
    "    seed = 1\n",
    "    # split data in k fold\n",
    "    k_indices = build_k_indices(y_train[:4000], k_fold, seed)\n",
    "    \n",
    "    best_l = 0 \n",
    "    best_deg = 0\n",
    "    best_g = 0\n",
    "    min_loss = 1000\n",
    "    best_pred = 0\n",
    "     # define list to store the variable\n",
    "    rmse_tr = np.empty((len(lambdas), len(degrees), len(gammas)))\n",
    "    rmse_te = np.empty((len(lambdas), len(degrees), len(gammas)))\n",
    "    \n",
    "    for ind_l, l in enumerate(lambdas):\n",
    "        print(ind_l)\n",
    "        for ind_deg, deg in enumerate(degrees):\n",
    "            for ind_g, g in enumerate(gammas):\n",
    "                sum_loss_tr = 0\n",
    "                sum_loss_te = 0\n",
    "                for k_test in range(k_fold):\n",
    "                    loss_tr, loss_te, we = cross_validation(func, y_train[:100000], x_train[:100000], k_indices, k_test, l, deg, g)\n",
    "                    sum_loss_tr = sum_loss_tr + loss_tr\n",
    "                    sum_loss_te = sum_loss_te + loss_te\n",
    "                rmse_t = np.sqrt(2*sum_loss_te)\n",
    "                rmse_tr[ind_l][ind_deg][ind_g] = np.sqrt(2*sum_loss_tr)\n",
    "                rmse_te[ind_l][ind_deg][ind_g] = rmse_t\n",
    "                \n",
    "                #pred = compare_prediction(we, build_poly(x_train, deg), y_train)\n",
    "                #if(pred > best_pred):\n",
    "                #    best_pred = pred\n",
    "                if(rmse_t < min_loss):\n",
    "                    min_loss = rmse_t\n",
    "                    best_l = l\n",
    "                    best_deg = deg\n",
    "                    best_g = g\n",
    "    print(np.argmin(rmse_te))\n",
    "    print(np.shape(rmse_tr[:, 0, 0]))\n",
    "    cross_valid_vizu(lambdas, 'lambdas', rmse_tr[:, 0, 0], rmse_te[:, 0, 0])\n",
    "    return best_l, best_deg, best_g"
   ]
  },
  {
   "cell_type": "code",
   "execution_count": 289,
   "metadata": {
    "collapsed": true
   },
   "outputs": [],
   "source": [
    "    seed = 69\n",
    "    degree = 2\n",
    "    degrees = range(6, 7)\n",
    "    k_fold = 4\n",
    "    lambdas = [1]#np.logspace(-5, 0, 30)\n",
    "    gammas_ridge = [1]"
   ]
  },
  {
   "cell_type": "code",
   "execution_count": 290,
   "metadata": {},
   "outputs": [
    {
     "data": {
      "text/plain": [
       "2.2122162910704501e-05"
      ]
     },
     "execution_count": 290,
     "metadata": {},
     "output_type": "execute_result"
    }
   ],
   "source": [
    "bl"
   ]
  },
  {
   "cell_type": "code",
   "execution_count": 291,
   "metadata": {
    "scrolled": true
   },
   "outputs": [
    {
     "name": "stdout",
     "output_type": "stream",
     "text": [
      "0\n",
      "1\n",
      "2\n",
      "3\n",
      "4\n",
      "5\n",
      "6\n",
      "7\n",
      "8\n",
      "9\n",
      "10\n",
      "11\n",
      "12\n",
      "13\n",
      "14\n",
      "15\n",
      "16\n",
      "17\n",
      "18\n",
      "19\n",
      "20\n",
      "21\n",
      "22\n",
      "23\n",
      "24\n",
      "25\n",
      "26\n",
      "27\n",
      "28\n",
      "29\n",
      "2\n",
      "(30,)\n"
     ]
    },
    {
     "data": {
      "image/png": "[encoded data removed]",
      "text/plain": [
       "<matplotlib.figure.Figure at 0x24f573257f0>"
      ]
     },
     "metadata": {},
     "output_type": "display_data"
    }
   ],
   "source": [
    "bl, bd, bg = cross_validation_demo(ridge_regression, lambdas, degrees, gammas_ridge, k_fold)"
   ]
  },
  {
   "cell_type": "code",
   "execution_count": 292,
   "metadata": {},
   "outputs": [
    {
     "data": {
      "text/plain": [
       "2.2122162910704501e-05"
      ]
     },
     "execution_count": 292,
     "metadata": {},
     "output_type": "execute_result"
    }
   ],
   "source": [
    "bl"
   ]
  },
  {
   "cell_type": "code",
   "execution_count": 299,
   "metadata": {
    "collapsed": true
   },
   "outputs": [],
   "source": [
    "x_poly = build_poly(x_train, 6)\n",
    "epsylon = 10.**(-4)"
   ]
  },
  {
   "cell_type": "code",
   "execution_count": 300,
   "metadata": {},
   "outputs": [
    {
     "data": {
      "text/plain": [
       "0.79975200000000002"
      ]
     },
     "execution_count": 300,
     "metadata": {},
     "output_type": "execute_result"
    }
   ],
   "source": [
    "w, l = ridge_regression(y_train, x_poly, bl, 1)\n",
    "compare_prediction(w, x_poly, y_train)"
   ]
  },
  {
   "cell_type": "code",
   "execution_count": 301,
   "metadata": {},
   "outputs": [
    {
     "data": {
      "text/plain": [
       "0.79975200000000002"
      ]
     },
     "execution_count": 301,
     "metadata": {},
     "output_type": "execute_result"
    }
   ],
   "source": [
    "w, l = ridge_regression(y_train, x_poly, bl+epsylon, 1)\n",
    "compare_prediction(w, x_poly, y_train)"
   ]
  },
  {
   "cell_type": "code",
   "execution_count": 302,
   "metadata": {},
   "outputs": [
    {
     "data": {
      "text/plain": [
       "0.79969999999999997"
      ]
     },
     "execution_count": 302,
     "metadata": {},
     "output_type": "execute_result"
    }
   ],
   "source": [
    "w, l = ridge_regression(y_train, x_poly, bl-epsylon, 1)\n",
    "compare_prediction(w, x_poly, y_train)"
   ]
  },
  {
   "cell_type": "markdown",
   "metadata": {},
   "source": [
    "### Logistic Regression"
   ]
  },
  {
   "cell_type": "code",
   "execution_count": null,
   "metadata": {
    "collapsed": true
   },
   "outputs": [],
   "source": [
    "def cross_validation_logi(y, x, k_indices, k, lambda_, degree, gamma):\n",
    "    \"\"\"return the loss of ridge regression.\"\"\"\n",
    "\n",
    "    # get k'th subgroup in test, others in train\n",
    "    train_indices = [x for j, x in enumerate(k_indices) if j != k]\n",
    "    train_indices = [idx for part in train_indices for idx in part]\n",
    "    test_indices = k_indices[k]\n",
    "    \n",
    "    x_tr = x[train_indices]\n",
    "    y_tr = y[train_indices]\n",
    "    \n",
    "    x_te = x[test_indices]\n",
    "    y_te = y[test_indices]\n",
    "\n",
    "    # form data with polynomial degree\n",
    "    train_poly = build_poly(x_tr, degree)\n",
    "    test_poly = build_poly(x_te, degree)\n",
    "\n",
    "    # ridge regression\n",
    "    weights_train, loss_tr = logistic_regression(y_tr, train_poly, lambda_, gamma)\n",
    "\n",
    "    # calculate the loss for train and test data\n",
    "    loss_te = compute_loss(y_te, test_poly, weights_train)\n",
    "\n",
    "    return loss_tr, loss_te, weights_train"
   ]
  },
  {
   "cell_type": "code",
   "execution_count": null,
   "metadata": {
    "collapsed": true
   },
   "outputs": [],
   "source": [
    "def cross_validation_logi_demo(lambdas, degrees, gammas, k_fold):\n",
    "    \n",
    "    seed = 1\n",
    "    # split data in k fold\n",
    "    k_indices = build_k_indices(y_train[:4000], k_fold, seed)\n",
    "    \n",
    "    best_l = 0 \n",
    "    best_deg = 0\n",
    "    best_g = 0\n",
    "    min_loss = 1000\n",
    "    best_pred = 0\n",
    "     # define list to store the variable\n",
    "    rmse_tr = np.empty((len(lambdas), len(degrees), len(gammas)))\n",
    "    rmse_te = np.empty((len(lambdas), len(degrees), len(gammas)))\n",
    "    \n",
    "    for ind_l, l in enumerate(lambdas):\n",
    "        print(ind_l)\n",
    "        for ind_deg, deg in enumerate(degrees):\n",
    "            for ind_g, g in enumerate(gammas):\n",
    "                sum_loss_tr = 0\n",
    "                sum_loss_te = 0\n",
    "                for k_test in range(k_fold):\n",
    "                    loss_tr, loss_te, we = cross_validation_logi(y_train[:100000],  \\\n",
    "                                                            x_train[:100000], k_indices, k_test, l, deg, g)\n",
    "                    sum_loss_tr = sum_loss_tr + loss_tr\n",
    "                    sum_loss_te = sum_loss_te + loss_te\n",
    "                rmse_t = np.sqrt(2*sum_loss_te)\n",
    "                rmse_tr[ind_l][ind_deg][ind_g] = np.sqrt(2*sum_loss_tr)\n",
    "                rmse_te[ind_l][ind_deg][ind_g] = rmse_t\n",
    "                \n",
    "                #pred = compare_prediction(we, build_poly(x_train, deg), y_train)\n",
    "                #if(pred > best_pred):\n",
    "                #    best_pred = pred\n",
    "                if(rmse_t < min_loss):\n",
    "                    min_loss = rmse_t\n",
    "                    best_l = l\n",
    "                    best_deg = deg\n",
    "                    best_g = g\n",
    "                    \n",
    "    cross_valid_vizu(lambdas, 'lambdas', rmse_tr[:, 0, 0], rmse_te[:, 0, 0])\n",
    "    return best_l, best_deg, best_g"
   ]
  },
  {
   "cell_type": "code",
   "execution_count": null,
   "metadata": {
    "collapsed": true
   },
   "outputs": [],
   "source": [
    " degrees = range(6, 7)\n",
    "    k_fold = 4\n",
    "    lambdas = [1]#np.logspace(-5, 0, 30)\n",
    "    gammas_ridge = [1]#np.logspace(-15, 0, 30)"
   ]
  },
  {
   "cell_type": "code",
   "execution_count": null,
   "metadata": {
    "collapsed": true
   },
   "outputs": [],
   "source": [
    "bl, bd, bg = cross_validation_logi_demo(lambdas, degrees, gammas_ridge, k_fold)"
   ]
  },
  {
   "cell_type": "markdown",
   "metadata": {},
   "source": [
    "### END CROSS_VALID"
   ]
  },
  {
   "cell_type": "code",
   "execution_count": null,
   "metadata": {
    "collapsed": true
   },
   "outputs": [],
   "source": [
    "def sigmoid(t):\n",
    "    \"\"\"apply sigmoid function on t.\"\"\"\n",
    "    sig = 2*(np.exp(t) / (1 + np.exp(t))) - 1\n",
    "    #sig = (np.exp((t+1)/2) / (np.exp((t+1)/2)+1)\n",
    "    return sig"
   ]
  },
  {
   "cell_type": "code",
   "execution_count": null,
   "metadata": {
    "collapsed": true
   },
   "outputs": [],
   "source": [
    "def calculate_gradient(y, tx, w):\n",
    "    \"\"\"compute the gradient of loss.\"\"\"\n",
    "    \n",
    "    return  tx.T @(sigmoid(tx @ w) - y)"
   ]
  },
  {
   "cell_type": "code",
   "execution_count": null,
   "metadata": {
    "collapsed": true
   },
   "outputs": [],
   "source": [
    "def learning_by_gradient_descent(y, tx, w, gamma):\n",
    "    \"\"\"\n",
    "    Do one step of gradient descen using logistic regression.\n",
    "    Return the loss and the updated w.\n",
    "    \"\"\"\n",
    "    loss = calculate_loss(y, tx, w)\n",
    "    grad = calculate_gradient(y, tx, w)\n",
    "    w = w - gamma * grad\n",
    "    return loss, w"
   ]
  },
  {
   "cell_type": "code",
   "execution_count": null,
   "metadata": {
    "collapsed": true
   },
   "outputs": [],
   "source": [
    "def shuffle_index_resize(y,x, max_elem_percent):\n",
    "    y_pos = []\n",
    "    y_neg = []\n",
    "    \n",
    "    max_elem = int(((max_elem_percent * len(y) ) / 100) / 2.0)\n",
    "\n",
    "    for idx_y, val in enumerate(y):\n",
    "\n",
    "        if(val == 1):\n",
    "            y_pos.append(idx_y)\n",
    "        else:\n",
    "            y_neg.append(idx_y)\n",
    "\n",
    "        \n",
    "    data_size_pos = len(y_pos)  \n",
    "    shuffle_indices_pos = np.random.permutation(np.arange(data_size_pos)) \n",
    "    data_size_neg = len(y_neg)  \n",
    "    shuffle_indices_neg = np.random.permutation(np.arange(data_size_neg)) \n",
    "    new_y = []\n",
    "    new_x = []\n",
    "    for i in range(max_elem):\n",
    "        new_y.append(y[y_pos[shuffle_indices_pos[i]]])\n",
    "        new_y.append(y[y_neg[shuffle_indices_neg[i]]])\n",
    "        new_x.append(x[y_pos[shuffle_indices_pos[i]]])\n",
    "        new_x.append(x[y_neg[shuffle_indices_neg[i]]])\n",
    "    \n",
    "    return np.array(new_y), np.array(new_x)\n",
    "\n",
    "\n",
    "new_y, new_x = shuffle_index_resize(y_train, x_train, 0.2)\n",
    "\n",
    "np.shape(new_x)"
   ]
  },
  {
   "cell_type": "code",
   "execution_count": null,
   "metadata": {
    "collapsed": true
   },
   "outputs": [],
   "source": [
    "def logistic_regression_gradient(y, x, w, gamma, max_iter):\n",
    "    # init parameters\n",
    "    #max_iter = 100000\n",
    "    threshold = 1e-8\n",
    "    #gamma = 0.000000001\n",
    "    lambda_ = 0.02\n",
    "    losses = []\n",
    "\n",
    "    # build tx\n",
    "    #tx = np.c_[np.ones((y.shape[0], 1)), x]\n",
    "    #w = np.zeros((tx.shape[1], 1))\n",
    "    \n",
    "    # start the logistic regression\n",
    "    for iter_ in range(max_iter):\n",
    "        # get loss and update w.\n",
    "        \n",
    "        #y, x = shuffle_index_resize2(y, x, 50000); #100000 = 40%  12500 = 5%\n",
    "        \n",
    "        if((iter_ % 1000) == 0):\n",
    "            print(iter_)\n",
    "        loss, w = learning_by_gradient_descent(y, x, w, gamma)\n",
    "        \n",
    "        #loss, w = learning_by_newton_method(y, tx, w)\n",
    "        #loss, w = learning_by_penalized_gradient(y, tx, w, gamma, lambda_)\n",
    "    return loss, w\n",
    "\n",
    "#nb = 200\n",
    "\n",
    "#x_train2 = x_train[:nb]\n",
    "\n",
    "#y_train2 = y_train.reshape(len(y_train), 1)\n",
    "#y_train2 = y_train2[:nb]\n",
    "#loss, w = logistic_regression_gradient_descent_demo(y_train2, x_train2)\n",
    "#loss"
   ]
  },
  {
   "cell_type": "code",
   "execution_count": null,
   "metadata": {
    "collapsed": true,
    "scrolled": true
   },
   "outputs": [],
   "source": [
    "def test():\n",
    "    #gammas = np.arange(0.48e-13,0.51e-13,1e-15)\n",
    "    gammas = np.logspace(-15, 0, 30)\n",
    "    # last = 5.5e-12\n",
    "\n",
    "    max_iter = 5000\n",
    "    #max_iter = 100000\n",
    "\n",
    "    best_compare_pred = 0\n",
    "    best_gamma = 0\n",
    "    best_w = 0\n",
    "\n",
    "\n",
    "    #y_train2, x_train2 = shuffle_index_resize(y_train,x_train, 68)\n",
    "    x_train2 = x_train\n",
    "    y_train2 = y_train\n",
    "\n",
    "    y_train2 = y_train2.reshape(len(y_train2), 1)\n",
    "    #print(np.shape(y_train2))\n",
    "    #print(np.shape(x_train2))\n",
    "\n",
    "\n",
    "    tx = np.c_[np.ones((y_train2.shape[0], 1)), x_train2]\n",
    "    w_init = np.zeros((tx.shape[1], 1))\n",
    "\n",
    "    #print(np.shape(w_init))\n",
    "\n",
    "    gamma_step = len(gammas)\n",
    "\n",
    "    for gamma_ in gammas:\n",
    "    \n",
    "        loss, w = logistic_regression_gradient(y_train2, tx, w_init, gamma_, max_iter)\n",
    "    \n",
    "        #print(np.shape(w))\n",
    "        gamma_step -= 1;\n",
    "        print('%d steps' % gamma_step)\n",
    "        print(gamma_)\n",
    "    \n",
    "        compare_pred = compare_prediction(w, tx, y_train2)\n",
    "        print('compare_pred  = ' + str(compare_pred) + ', best_compare_pred = '+ str(best_compare_pred))\n",
    "      \n",
    "        if(compare_pred > best_compare_pred):\n",
    "            print('compare_pred = %f' % compare_pred)\n",
    "            best_compare_pred = compare_pred;\n",
    "            best_gamma = gamma_;\n",
    "            best_w = w;\n",
    "        \n",
    "    return best_compare_pred, best_gamma, best_w "
   ]
  },
  {
   "cell_type": "code",
   "execution_count": null,
   "metadata": {
    "collapsed": true
   },
   "outputs": [],
   "source": [
    "best_compare_pred, best_gamma, best_w  = test()\n",
    "print(best_compare_pred)\n",
    "print(best_gamma)\n",
    "print(np.shape(best_w))"
   ]
  },
  {
   "cell_type": "code",
   "execution_count": null,
   "metadata": {
    "collapsed": true
   },
   "outputs": [],
   "source": [
    "compare_prediction(best_w, tx, y_train2)"
   ]
  },
  {
   "cell_type": "code",
   "execution_count": null,
   "metadata": {
    "collapsed": true
   },
   "outputs": [],
   "source": [
    "best_w_saved = best_w\n",
    "best_gamma_saved = best_gamma\n",
    "best_loss_saved = best_loss"
   ]
  },
  {
   "cell_type": "code",
   "execution_count": null,
   "metadata": {
    "collapsed": true
   },
   "outputs": [],
   "source": [
    "np.shape(new_y)"
   ]
  },
  {
   "cell_type": "code",
   "execution_count": null,
   "metadata": {
    "collapsed": true
   },
   "outputs": [],
   "source": [
    "def penalized_logistic_regression(y, tx, w, lambda_):\n",
    "    \"\"\"return the loss, gradient, and hessian.\"\"\"\n",
    "    # return loss, gradient, and hessian\n",
    "    #loss = calculate_loss(y, tx, w) + (w.T@w*lambda_ / 2.0)\n",
    "    \n",
    "    grad = calculate_gradient(y, tx, w) + (w*lambda_)\n",
    "    \n",
    "    return grad"
   ]
  },
  {
   "cell_type": "code",
   "execution_count": null,
   "metadata": {
    "collapsed": true
   },
   "outputs": [],
   "source": [
    "def learning_by_penalized_gradient(y, tx, w, gamma, lambda_):\n",
    "    \"\"\"\n",
    "    Do one step of gradient descent, using the penalized logistic regression.\n",
    "    Return the loss and updated w.\n",
    "    \"\"\"\n",
    "    gradient = penalized_logistic_regression(y, tx, w, lambda_)\n",
    "    w -= gamma * gradient\n",
    "    return w"
   ]
  },
  {
   "cell_type": "code",
   "execution_count": null,
   "metadata": {
    "collapsed": true
   },
   "outputs": [],
   "source": [
    "def shuffle_index_resize2(y,x, max_elem_percent):\n",
    "    y_pos = []\n",
    "    y_neg = []\n",
    "    \n",
    "    max_elem = int(max_elem_percent / 2)\n",
    "\n",
    "    for idx_y, val in enumerate(y):\n",
    "\n",
    "        if(val == 1):\n",
    "            y_pos.append(idx_y)\n",
    "        else:\n",
    "            y_neg.append(idx_y)\n",
    "\n",
    "        \n",
    "    data_size_pos = len(y_pos)  \n",
    "    shuffle_indices_pos = np.random.permutation(np.arange(data_size_pos)) \n",
    "    data_size_neg = len(y_neg)  \n",
    "    shuffle_indices_neg = np.random.permutation(np.arange(data_size_neg)) \n",
    "    new_y = []\n",
    "    new_x = []\n",
    "    for i in range(max_elem):\n",
    "        new_y.append(y[y_pos[shuffle_indices_pos[i]]])\n",
    "        new_y.append(y[y_neg[shuffle_indices_neg[i]]])\n",
    "        new_x.append(x[y_pos[shuffle_indices_pos[i]]])\n",
    "        new_x.append(x[y_neg[shuffle_indices_neg[i]]])\n",
    "    \n",
    "    return np.array(new_y), np.array(new_x)\n",
    "\n",
    "\n",
    "new_y, new_x = shuffle_index_resize2(y_train, x_train, 0.2)\n",
    "\n",
    "np.shape(new_x)"
   ]
  },
  {
   "cell_type": "code",
   "execution_count": null,
   "metadata": {
    "collapsed": true
   },
   "outputs": [],
   "source": [
    "def logistic_regression_gradient_descent_demo(y, x, w, gamma, max_iter, lambda_):\n",
    "    # init parameters\n",
    "    #max_iter = 100000\n",
    "    #gamma = 0.000000001\n",
    "    #lambda_ = 0.02\n",
    "    threshold = 1e-8\n",
    "    losses = []\n",
    "        \n",
    "    # build tx\n",
    "    #tx = np.c_[np.ones((y.shape[0], 1)), x]\n",
    "    #w = np.zeros((tx.shape[1], 1))\n",
    "    \n",
    "    \n",
    "    # start the logistic regression\n",
    "    for iter_ in range(max_iter):\n",
    "        # get loss and update w.\n",
    "        \n",
    "        y, x = shuffle_index_resize2(y, x, 50000); #100000 = 40%  12500 = 5%\n",
    "        \n",
    "        if((iter_ % 100) == 0):\n",
    "            print(iter_)\n",
    "        w = learning_by_penalized_gradient(y, x, w, gamma, lambda_)\n",
    "        \n",
    "        #losses.append(loss)\n",
    "        #if len(losses) > 1 and np.abs(losses[-1] - losses[-2]) < threshold:\n",
    "            #break\n",
    "        \n",
    "        #loss, w = learning_by_newton_method(y, tx, w)\n",
    "        #loss, w = learning_by_penalized_gradient(y, tx, w, gamma, lambda_)\n",
    "    return w\n",
    "\n",
    "\n"
   ]
  },
  {
   "cell_type": "code",
   "execution_count": null,
   "metadata": {
    "collapsed": true
   },
   "outputs": [],
   "source": [
    "def build_poly(x, degree):\n",
    "    \"\"\"polynomial basis functions for input data x, for j=0 up to j=degree.\"\"\"\n",
    "    \n",
    "    # problem ici avec 1 et sum\n",
    "    phi_x = []\n",
    "    \n",
    "    for j in range(0, degree + 1):\n",
    "        if(j == 0):\n",
    "            phi_x = np.power(x, j)\n",
    "        else:\n",
    "            x_power_j = np.power(x, j)\n",
    "            phi_x = np.c_[phi_x, x_power_j]\n",
    "\n",
    "    return phi_x"
   ]
  },
  {
   "cell_type": "code",
   "execution_count": null,
   "metadata": {
    "collapsed": true,
    "scrolled": true
   },
   "outputs": [],
   "source": [
    "gammas = np.logspace(-15, -10, 5)\n",
    "#gammas = np.arange(0.48e-13,1.0e-13,1e-15)\n",
    "# last = 7.19685673001e-12  1e-13\n",
    "\n",
    "max_iter = 400\n",
    "#max_iter = 100000\n",
    "\n",
    "lambdas = np.logspace(-20, -15, 5)\n",
    "#lambdas = np.logspace(-13, -10, 2)\n",
    "#lambdas = np.arange(1.9e-9,2.1e-9,1e-10)\n",
    "# last =\n",
    "\n",
    "best_comp_pred = 0\n",
    "best_gamma = 0\n",
    "best_w = 0\n",
    "best_lambda = 0\n",
    "\n",
    "\n",
    "#degree = 4\n",
    "#x_train2 = build_poly(x_train, degree)\n",
    "x_train2 = x_train\n",
    "y_train2 = y_train\n",
    "#y_train2, x_train2 = shuffle_index_resize(y_train,x_train, 60)\n",
    "\n",
    "y_train2 = y_train2.reshape(len(y_train2), 1)\n",
    "\n",
    "tx = np.c_[np.ones((y_train2.shape[0], 1)), x_train2]\n",
    "w_init = np.zeros((tx.shape[1], 1))\n",
    "\n",
    "gamma_step = len(gammas)\n",
    "\n",
    "for gamma_ in gammas:\n",
    "    lambda_step = len(lambdas)\n",
    "    \n",
    "    for lambda_ in lambdas:\n",
    "        w = logistic_regression_gradient_descent_demo(y_train2, tx, w_init, gamma_, max_iter, lambda_)\n",
    "        \n",
    "        #comp_pred = compare_prediction(weight.reshape(len(weight), 1), tr_poly, y_tr.reshape(len(y_tr), 1))\n",
    "        \n",
    "        #loss, w = logistic_regression_gradient_descent_demo(y_train2, tx, w_init, gamma_, max_iter, lambda_)\n",
    "        print('degree')\n",
    "        #compare_prediction(w_r.reshape(len(w_r), 1), build_poly(x_train, degree), y_train.reshape(len(y_train), 1))\n",
    "\n",
    "        comp_pred = compare_prediction(w, tx, y_train2)\n",
    "        print('comp_pred  = ' + str(comp_pred) + ', best_comp_pred = '+ str(best_comp_pred))\n",
    "        \n",
    "        if(comp_pred > best_comp_pred):\n",
    "            print('comp_pred = %f' % comp_pred)\n",
    "            best_comp_pred = comp_pred;\n",
    "            best_gamma = gamma_;\n",
    "            best_w = w;\n",
    "            best_lambda = lambda_\n",
    "            \n",
    "        lambda_step -= 1;\n",
    "        print('%d steps_lambda' % lambda_step)\n",
    "        print('lambda')\n",
    "        print(lambda_)\n",
    "        \n",
    "        #comp_pred = compare_prediction(w, tx, y_train2)\n",
    "        #print('comp_pred  = ' + str(comp_pred) + ', best_comp_pred = '+ str(best_comp_pred))\n",
    "        \n",
    "        #if(comp_pred > best_comp_pred):\n",
    "            #print('comp_pred = %f' % comp_pred)\n",
    "            #best_comp_pred = comp_pred;\n",
    "            #best_gamma = gamma_;\n",
    "            #best_w = w;\n",
    "            #best_lambda = lambda_\n",
    "    \n",
    "    #print(np.shape(w))\n",
    "    gamma_step -= 1;\n",
    "    print('%d steps_gamma' % gamma_step)\n",
    "    print('gamma')\n",
    "    print(gamma_)\n",
    "        \n",
    "best_loss    "
   ]
  },
  {
   "cell_type": "code",
   "execution_count": null,
   "metadata": {
    "collapsed": true
   },
   "outputs": [],
   "source": [
    "print(best_loss)\n",
    "print(best_gamma)\n",
    "np.shape(best_w)"
   ]
  },
  {
   "cell_type": "code",
   "execution_count": null,
   "metadata": {
    "collapsed": true
   },
   "outputs": [],
   "source": [
    "compare_prediction(best_w, tx, y_train2)"
   ]
  },
  {
   "cell_type": "code",
   "execution_count": null,
   "metadata": {
    "collapsed": true
   },
   "outputs": [],
   "source": [
    "best_w2_saved = best_w\n",
    "best_gamma2_saved = best_gamma\n",
    "best_loss2_saved = best_loss"
   ]
  },
  {
   "cell_type": "code",
   "execution_count": null,
   "metadata": {
    "collapsed": true
   },
   "outputs": [],
   "source": []
  },
  {
   "cell_type": "code",
   "execution_count": null,
   "metadata": {
    "collapsed": true
   },
   "outputs": [],
   "source": [
    "def cross_validation(y, x, k_indices, k, lambda_, gamma_, max_iter):\n",
    "    \"\"\"return the loss of ridge regression.\"\"\"\n",
    "\n",
    "    # get k'th subgroup in test, others in train\n",
    "    train_indices = [x for j, x in enumerate(k_indices) if j != k]\n",
    "    train_indices = [idx for part in train_indices for idx in part]\n",
    "    test_indices = k_indices[k]\n",
    "    \n",
    "    x_train = x[train_indices]\n",
    "    y_train = y[train_indices]\n",
    "    \n",
    "    y_train2 = y_train.reshape(len(y_train), 1)\n",
    "\n",
    "    x_train2 = np.c_[np.ones((y_train2.shape[0], 1)), x_train]\n",
    "    w_init = np.zeros((tx.shape[1], 1))\n",
    "    \n",
    "    # Logistic regression\n",
    "    \n",
    "    #print(np.shape(y_train2))\n",
    "    #print(np.shape(x_train2))\n",
    "    \n",
    "    #weights_train, loss_tr = ridge_regression(y_train, train_poly, lambda_)\n",
    "    loss_tr, weights_train = logistic_regression_gradient_descent_demo(y_train2, x_train2, w_init, gamma_, max_iter, lambda_)\n",
    "    \n",
    "    return loss_tr"
   ]
  },
  {
   "cell_type": "code",
   "execution_count": null,
   "metadata": {
    "collapsed": true
   },
   "outputs": [],
   "source": [
    "def build_k_indices(y, k_fold, seed):\n",
    "    \"\"\"build k indices for k-fold.\"\"\"\n",
    "    num_row = y.shape[0]\n",
    "    interval = int(num_row / k_fold)\n",
    "    np.random.seed(seed)\n",
    "    indices = np.random.permutation(num_row)\n",
    "    k_indices = [indices[k * interval: (k + 1) * interval]\n",
    "                 for k in range(k_fold)]\n",
    "    return np.array(k_indices)"
   ]
  },
  {
   "cell_type": "code",
   "execution_count": null,
   "metadata": {
    "collapsed": true,
    "scrolled": false
   },
   "outputs": [],
   "source": [
    "def cross_validation_demo():\n",
    "    seed = 1\n",
    "    k_fold = 2\n",
    "    max_iter = 400\n",
    "    lambdas = np.logspace(-13, 0, 15)\n",
    "    gammas = np.logspace(-13, 0, 15)\n",
    "    \n",
    "    # split data in k fold\n",
    "    k_indices = build_k_indices(y_train, k_fold, seed)\n",
    "    \n",
    "    # define lists to store the loss of training data and test data\n",
    "    rmse_tr = []\n",
    "    rmse_te = []\n",
    "    \n",
    "    best_loss_train = 100000\n",
    "    best_gamma = 0\n",
    "    best_lambda = 0\n",
    "    #best_w = 0\n",
    "    \n",
    "    gamma_step = len(gammas)\n",
    "    \n",
    "    # cross validation\n",
    "    for gamma_ in gammas:\n",
    "        loss_tr_tmp = []\n",
    "        lambda_step = len(lambdas)\n",
    "        \n",
    "        for lambda_ in lambdas: \n",
    "            \n",
    "            for i_test in range(k_fold): \n",
    "                loss_tr = cross_validation(y_train, x_train, k_indices, i_test, lambda_, gamma_, max_iter)\n",
    "                loss_tr_tmp.append(loss_tr)\n",
    "                print('loss  = ' + str(loss) + ', best_loss = '+ str(best_loss_train))\n",
    "            \n",
    "            lambda_step -= 1;\n",
    "            print('%d steps_lambda' % lambda_step)\n",
    "            print('lambda')\n",
    "            print(lambda_)\n",
    "            print('loss_mean')\n",
    "            print(np.sqrt(2*np.mean(loss_tr_tmp)))\n",
    "            \n",
    "            #compare_pred = compare_prediction(best_w, tx, y_train2)\n",
    "            \n",
    "            loss_train = np.sqrt(2*np.mean(loss_tr_tmp))\n",
    "            \n",
    "            if(loss_train < best_loss_train):\n",
    "                \n",
    "                best_loss_train = loss_train\n",
    "                best_gamma = gamma_\n",
    "                best_lambda = lambda_\n",
    "                #best_w = w  \n",
    "        gamma_step -= 1;\n",
    "        print('%d steps_gamma' % gamma_step)\n",
    "        print('gamma')\n",
    "        print(gamma_)\n",
    "\n",
    "cross_validation_demo()"
   ]
  },
  {
   "cell_type": "code",
   "execution_count": null,
   "metadata": {
    "collapsed": true
   },
   "outputs": [],
   "source": []
  },
  {
   "cell_type": "code",
   "execution_count": null,
   "metadata": {
    "collapsed": true
   },
   "outputs": [],
   "source": [
    "print(best_loss)\n",
    "print(best_gamma)\n",
    "np.shape(best_w)"
   ]
  },
  {
   "cell_type": "code",
   "execution_count": null,
   "metadata": {
    "collapsed": true
   },
   "outputs": [],
   "source": [
    "y_train2 = y_train.reshape(len(y_train), 1)\n",
    "tx = np.c_[np.ones((y_train2.shape[0], 1)), x_train]\n",
    "\n",
    "compare_prediction(best_w, tx, y_train2)"
   ]
  }
 ],
 "metadata": {
  "kernelspec": {
   "display_name": "Python 3",
   "language": "python",
   "name": "python3"
  },
  "language_info": {
   "codemirror_mode": {
    "name": "ipython",
    "version": 3
   },
   "file_extension": ".py",
   "mimetype": "text/x-python",
   "name": "python",
   "nbconvert_exporter": "python",
   "pygments_lexer": "ipython3",
   "version": "3.6.2"
  }
 },
 "nbformat": 4,
 "nbformat_minor": 2
}
